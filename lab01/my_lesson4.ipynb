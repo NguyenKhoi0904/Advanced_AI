{
 "cells": [
  {
   "cell_type": "markdown",
   "id": "0cfa247f-bf3f-4910-90dc-ae8ecb607964",
   "metadata": {
    "id": "0cfa247f-bf3f-4910-90dc-ae8ecb607964"
   },
   "source": [
    "# Buổi 4: Tìm kiếm trong không gian trạng thái"
   ]
  },
  {
   "cell_type": "markdown",
   "id": "48ace7ff-b7d1-4cf2-94da-a21d2d821112",
   "metadata": {
    "id": "48ace7ff-b7d1-4cf2-94da-a21d2d821112"
   },
   "source": [
    "### Bài 1. Biễu diễn đồ thị\n",
    "\n",
    "Cho đồ thị hàm số **G** (**V**, **E**) như bên dưới:\n",
    "\n",
    "![image](dothi.png)"
   ]
  },
  {
   "cell_type": "markdown",
   "id": "51164f9d-5d98-4361-b2c2-1fb23fd3704c",
   "metadata": {
    "id": "51164f9d-5d98-4361-b2c2-1fb23fd3704c"
   },
   "source": [
    "#### 1. Biễu diễn bằng danh sách / ma trận kề"
   ]
  },
  {
   "cell_type": "code",
   "execution_count": 12,
   "id": "8715cbf5-d144-479d-9bb3-eb0be736fa12",
   "metadata": {
    "colab": {
     "base_uri": "https://localhost:8080/",
     "height": 211
    },
    "executionInfo": {
     "elapsed": 37,
     "status": "error",
     "timestamp": 1758296620847,
     "user": {
      "displayName": "Nguyên Khôi",
      "userId": "16996673933150660545"
     },
     "user_tz": -420
    },
    "id": "8715cbf5-d144-479d-9bb3-eb0be736fa12",
    "outputId": "1c867951-9bd6-4f65-df5a-910314e9c5dc"
   },
   "outputs": [
    {
     "name": "stdout",
     "output_type": "stream",
     "text": [
      "A: C, E, D, F\n",
      "B: \n",
      "C: H\n",
      "D: H, E\n",
      "E: K, I\n",
      "F: I, G\n",
      "G: \n",
      "H: K\n",
      "I: B, K\n",
      "K: B\n"
     ]
    }
   ],
   "source": [
    "\"\"\" CÁC BẠN LÀM BÀI Ở ĐÂY \"\"\"\n",
    "# ...\n",
    "import numpy as np\n",
    "import pprint\n",
    "i = {\n",
    "    'A': ['C', 'E', 'D', 'F'],\n",
    "    'B': [],\n",
    "    'C': ['H'],\n",
    "    'D': ['H', 'E'],\n",
    "    'E': ['K', 'I'],\n",
    "    'F': ['I', 'G'],\n",
    "    'G': [],\n",
    "    'H': ['K'],\n",
    "    'I': ['B', 'K'],\n",
    "    'K': ['B']\n",
    "}\n",
    "\n",
    "def DanhSachKe(i):\n",
    "    graph = {}\n",
    "    for key, values in i.items():\n",
    "        print(key, end=\": \")\n",
    "        print(*values, sep=\", \")\n",
    "\n",
    "DanhSachKe(i)\n",
    "\n",
    "def MaTranKe(i):\n",
    "    v = [\"A\", \"B\", \"C\", \"D\", \"E\", \"F\", \"G\", \"H\", \"I\", \"K\"]\n",
    "    n = len(v)\n",
    "    edges = {v:i for i, v in enumerate(v)}\n",
    "\n",
    "    matrix = np.zeros((n,n), int)\n",
    "    for key in i:\n",
    "        for value in i[key]:\n",
    "            matrix[edges[key]][edges[value]] = 1\n",
    "\n",
    "    pprint.pprint(matrix)\n",
    "\n",
    "# MaTranKe(i)\n",
    "\n",
    "def solve(path: str = \"dske1.txt\"):\n",
    "    \"\"\"\n",
    "    Args:\n",
    "        path (str): đường dẫn của file input\n",
    "    Return:\n",
    "        {A: [...]}: danh sách kề của đồ thị\n",
    "    \"\"\"\n",
    "    edges = {}\n",
    "    with open(path, \"r\", encoding=\"utf-8\") as f:\n",
    "        n = int(f.readline().strip())\n",
    "        for _ in range(n):\n",
    "            line = f.readline().strip()\n",
    "            if len(line) == 1:\n",
    "                edges[line] = []\n",
    "            else:\n",
    "                line = line.split()\n",
    "                edges[line[0]] = line[1:]\n",
    "    \n",
    "    return edges\n",
    "\n",
    "# pprint.pprint(solve())\n"
   ]
  },
  {
   "cell_type": "code",
   "execution_count": null,
   "id": "44f952fc-0188-4215-823b-6efb1ba5622a",
   "metadata": {
    "id": "44f952fc-0188-4215-823b-6efb1ba5622a",
    "outputId": "978aed4c-4f9e-4050-9319-6d188e5ce7fd"
   },
   "outputs": [
    {
     "name": "stdout",
     "output_type": "stream",
     "text": [
      "{'A': {'C', 'E', 'D', 'F'},\n",
      " 'B': {},\n",
      " 'C': {'H'},\n",
      " 'D': {'H', 'E'},\n",
      " 'E': {'K', 'I'},\n",
      " 'F': {'I', 'G'},\n",
      " 'G': {},\n",
      " 'H': {'K'},\n",
      " 'I': {'B', 'K'},\n",
      " 'K': {'B'}}\n"
     ]
    }
   ],
   "source": [
    "import pprint\n",
    "pprint.pprint(ADJ)"
   ]
  },
  {
   "cell_type": "markdown",
   "id": "c975f35c-f742-4ac2-be01-1fe53c94eadf",
   "metadata": {
    "id": "c975f35c-f742-4ac2-be01-1fe53c94eadf"
   },
   "source": [
    "#### 2. Thao tác duyệt đồ thị\n",
    "(a) Liệt kê các đỉnh trong đồ thị <br/>\n",
    "(b) Liệt kê tất cả các cạnh đồ thị hiển thị dạng danh sách kề <br/>\n",
    "(c) Cho hai đỉnh A, B. Hỏi hai đỉnh A, B có kề nhau không? <br/>\n",
    "(d) Cho một đỉnh A. Hỏi danh sách các đỉnh kề với A <br/>"
   ]
  },
  {
   "cell_type": "code",
   "execution_count": null,
   "id": "d286c1a6-ef93-4581-9f7e-96ea10020985",
   "metadata": {
    "id": "d286c1a6-ef93-4581-9f7e-96ea10020985",
    "outputId": "dd9c8e66-21f1-47f1-dd81-0c354dd05de8"
   },
   "outputs": [
    {
     "name": "stdout",
     "output_type": "stream",
     "text": [
      "2. Thao tác duyệt đồ thị\n"
     ]
    }
   ],
   "source": [
    "print(\"2. Thao tác duyệt đồ thị\")"
   ]
  },
  {
   "cell_type": "code",
   "execution_count": 5,
   "id": "5faa6543-247a-4903-ba2a-9c1595af4f41",
   "metadata": {
    "id": "5faa6543-247a-4903-ba2a-9c1595af4f41",
    "outputId": "97204517-94af-4149-8847-c9f29aabc8cd"
   },
   "outputs": [
    {
     "name": "stdout",
     "output_type": "stream",
     "text": [
      "(a) Liệt kê các đỉnh trong đồ thị\n",
      "Các đỉnh của đồ thị:  A B C D E F G H I K "
     ]
    }
   ],
   "source": [
    "print(\"(a) Liệt kê các đỉnh trong đồ thị\")\n",
    "print(\"Các đỉnh của đồ thị: \", end = \" \")\n",
    "\"\"\" CÁC BẠN LÀM BÀI Ở ĐÂY \"\"\"\n",
    "# ...\n",
    "\n",
    "d = solve()\n",
    "for key in d:\n",
    "    print(key, end=\" \")"
   ]
  },
  {
   "cell_type": "code",
   "execution_count": 7,
   "id": "3df2151a-a327-4672-a7af-519084f4b044",
   "metadata": {
    "id": "3df2151a-a327-4672-a7af-519084f4b044",
    "outputId": "da0be0aa-efdd-4fb1-f15f-5e843c3fec48"
   },
   "outputs": [
    {
     "name": "stdout",
     "output_type": "stream",
     "text": [
      "(b) Liệt kê tất cả các cạnh đồ thị hiển thị dạng danh sách kề\n",
      "Danh sách kề của đồ thị: \n",
      "Đỉnh A: C, E, D, F\n",
      "Đỉnh B: \n",
      "Đỉnh C: H\n",
      "Đỉnh D: H, E\n",
      "Đỉnh E: K, I\n",
      "Đỉnh F: I, G\n",
      "Đỉnh G: \n",
      "Đỉnh H: K\n",
      "Đỉnh I: B, K\n",
      "Đỉnh K: B\n"
     ]
    }
   ],
   "source": [
    "print(\"(b) Liệt kê tất cả các cạnh đồ thị hiển thị dạng danh sách kề\")\n",
    "print(\"Danh sách kề của đồ thị: \")\n",
    "\n",
    "def HienThiDoThi(G):\n",
    "    \"\"\" CÁC BẠN LÀM BÀI Ở ĐÂY \"\"\"\n",
    "    # ...\n",
    "    \n",
    "    for key, value in d.items():\n",
    "        print(f\"Đỉnh {key}:\", end=\" \")\n",
    "        print(*value, sep=\", \")\n",
    "    pass\n",
    "ADJ = solve()\n",
    "HienThiDoThi(ADJ)"
   ]
  },
  {
   "cell_type": "code",
   "execution_count": null,
   "id": "4077c30a-c7be-4a44-93de-9ed446a6a368",
   "metadata": {
    "id": "4077c30a-c7be-4a44-93de-9ed446a6a368",
    "outputId": "60d8f0d2-204b-4313-ec9a-f7697b8a343b"
   },
   "outputs": [
    {
     "name": "stdout",
     "output_type": "stream",
     "text": [
      "(c) Cho hai đỉnh A, B. Hỏi hai đỉnh A, B có kề nhau không?\n",
      "L ke R: -1\n",
      "A ke R: -1\n",
      "E ke D: 0\n",
      "D ke E: 1\n"
     ]
    }
   ],
   "source": [
    "print(\"(c) Cho hai đỉnh A, B. Hỏi hai đỉnh A, B có kề nhau không?\")\n",
    "\n",
    "def LaKe(G, a, b):\n",
    "    \"\"\"\n",
    "    input: G, a, b\n",
    "    return:\n",
    "    + -1: dinh a, hay b khong ton tai\n",
    "    +  0: dinh a, b ton tai va a khong ke b\n",
    "    +  1: dinh a, b ton tai va a, b ke nhau\n",
    "    \"\"\"\n",
    "    result = None\n",
    "    \"\"\" CÁC BẠN LÀM BÀI Ở ĐÂY \"\"\"\n",
    "    # ...\n",
    "\n",
    "    result = -1 if a not in G or b not in G else (1 if b in G[a] else 0)\n",
    "    return result\n",
    "\n",
    "ADJ = solve()"
   ]
  },
  {
   "cell_type": "code",
   "execution_count": null,
   "id": "0e90a761-8354-460a-a451-1cbb97b9b6b8",
   "metadata": {
    "id": "0e90a761-8354-460a-a451-1cbb97b9b6b8",
    "outputId": "fa34d4e0-ed18-4582-dcba-ad8e2d256b55"
   },
   "outputs": [
    {
     "name": "stdout",
     "output_type": "stream",
     "text": [
      "L ke R: -1\n",
      "A ke R: -1\n",
      "E ke D: 0\n",
      "D ke E: 1\n"
     ]
    }
   ],
   "source": [
    "a = \"L\"; b = \"R\"; print(f\"{a} ke {b}: {LaKe(ADJ, a, b)}\")\n",
    "a = \"A\"; b = \"R\"; print(f\"{a} ke {b}: {LaKe(ADJ, a, b)}\")\n",
    "a = \"E\"; b = \"D\"; print(f\"{a} ke {b}: {LaKe(ADJ, a, b)}\")\n",
    "a = \"D\"; b = \"E\"; print(f\"{a} ke {b}: {LaKe(ADJ, a, b)}\")"
   ]
  },
  {
   "cell_type": "code",
   "execution_count": null,
   "id": "41048b4b-9311-470f-9c0f-2bcb5b062587",
   "metadata": {
    "id": "41048b4b-9311-470f-9c0f-2bcb5b062587",
    "outputId": "5bd34cfc-1b7d-48ea-d167-e8f201626a3b"
   },
   "outputs": [
    {
     "name": "stdout",
     "output_type": "stream",
     "text": [
      "(d) Cho một đỉnh A. Hỏi danh sách các đỉnh kề với A\n",
      "Danh sach ke voi dinh P: None\n",
      "Danh sach ke voi dinh A: ['C', 'E', 'D', 'F']\n",
      "Danh sach ke voi dinh B: []\n",
      "Danh sach ke voi dinh D: ['H', 'E']\n"
     ]
    }
   ],
   "source": [
    "print(\"(d) Cho một đỉnh A. Hỏi danh sách các đỉnh kề với A\")\n",
    "\n",
    "def LayKe(G, a):\n",
    "    \"\"\"\n",
    "    input: G, a\n",
    "    return:\n",
    "    + None: neu a khong ton tai\n",
    "    + []  : a khong ke voi bat ky dinh nao\n",
    "    + [x, y, ...]: mang cac dinh ke voi a\n",
    "    \"\"\"\n",
    "    result = None\n",
    "\n",
    "    \"\"\" CÁC BẠN LÀM BÀI Ở ĐÂY \"\"\"\n",
    "    # ...\n",
    "    if a in G:\n",
    "        result = G[a]\n",
    "        \n",
    "    return result\n",
    "\n",
    "a = \"P\"; print(f\"Danh sach ke voi dinh {a}: {LayKe(ADJ, a)}\")\n",
    "a = \"A\"; print(f\"Danh sach ke voi dinh {a}: {LayKe(ADJ, a)}\")\n",
    "a = \"B\"; print(f\"Danh sach ke voi dinh {a}: {LayKe(ADJ, a)}\")\n",
    "a = \"D\"; print(f\"Danh sach ke voi dinh {a}: {LayKe(ADJ, a)}\")"
   ]
  },
  {
   "cell_type": "markdown",
   "id": "465a8fdb-f10f-47a9-91ab-1b23598fda4f",
   "metadata": {
    "id": "465a8fdb-f10f-47a9-91ab-1b23598fda4f"
   },
   "source": [
    "#### 3. Đọc và lưu đồ thị\n",
    "**dske.txt**\n",
    "```\n",
    "10           # số đỉnh đồ thị\n",
    "A C E F D    # đỉnh A kề với C E F D\n",
    "B            # đỉnh B không kề với ai\n",
    "C H\n",
    "D E H\n",
    "E K I\n",
    "F I G\n",
    "G\n",
    "H K\n",
    "I K B\n",
    "K B\n",
    "```"
   ]
  },
  {
   "cell_type": "code",
   "execution_count": 4,
   "id": "a71b385f-d571-4d94-88f1-427527c23653",
   "metadata": {
    "id": "a71b385f-d571-4d94-88f1-427527c23653",
    "outputId": "124c448f-09b9-4cbb-c58e-f54450d8e61a"
   },
   "outputs": [
    {
     "name": "stdout",
     "output_type": "stream",
     "text": [
      "1. Lưu đồ thị xuống tập tin\n",
      "Luu do thi thanh cong xuong tap tin: test.txt\n",
      "10\n",
      "A C E F D\n",
      "B \n",
      "C H\n",
      "D E H\n",
      "E K I\n",
      "F I G\n",
      "G \n",
      "H K\n",
      "I K B\n",
      "K B\n"
     ]
    }
   ],
   "source": [
    "print(\"1. Lưu đồ thị xuống tập tin\")\n",
    "\n",
    "def LuuDoThi(G, file_path, verbose = True):\n",
    "    import os\n",
    "\n",
    "    \"\"\" CÁC BẠN LÀM BÀI Ở ĐÂY \"\"\"\n",
    "\n",
    "    # Tạo thư mục chứa file_path\n",
    "    file_dir = os.path.dirname(file_path)\n",
    "    if file_dir != \"\" and os.path.exists(file_path) == False:\n",
    "        os.makedirs(file_dir)\n",
    "        if verbose: print(f\"+ Tao thu muc: {file_dir}\")\n",
    "\n",
    "    # Lưu đồ thị\n",
    "    with open(file_path, \"wt\") as file:\n",
    "        \"\"\" CÁC BẠN LÀM BÀI Ở ĐÂY \"\"\"\n",
    "        # ...\n",
    "        file.write(str(len(G)) + \"\\n\")\n",
    "        for key, values in G.items():\n",
    "            file.write(key + \" \" + \" \".join(values) + \"\\n\")\n",
    "            ...\n",
    "        if verbose: print(f\"Luu do thi thanh cong xuong tap tin: {file_path}\")\n",
    "    pass\n",
    "\n",
    "ADJ = solve(\"dske.txt\")\n",
    "LuuDoThi(ADJ, \"test.txt\", verbose = True)\n",
    "with open(\"test.txt\", \"rt\") as file:\n",
    "    lines = file.readlines()\n",
    "    for line in lines: print(line, end=\"\")"
   ]
  },
  {
   "cell_type": "code",
   "execution_count": 1,
   "id": "b30921dc-fb94-44a5-907f-0d66340757a0",
   "metadata": {
    "id": "b30921dc-fb94-44a5-907f-0d66340757a0",
    "outputId": "654937f3-8b74-4126-94e2-92ee78b86135"
   },
   "outputs": [
    {
     "name": "stdout",
     "output_type": "stream",
     "text": [
      "2. Đọc đồ thị từ tập tin\n",
      "{'A': {'C', 'D', 'F', 'E'},\n",
      " 'B': set(),\n",
      " 'C': {'H'},\n",
      " 'D': {'H', 'E'},\n",
      " 'E': {'K', 'I'},\n",
      " 'F': {'I', 'G'},\n",
      " 'G': set(),\n",
      " 'H': {'K'},\n",
      " 'I': {'K', 'B'},\n",
      " 'K': {'B'}}\n"
     ]
    }
   ],
   "source": [
    "print(\"2. Đọc đồ thị từ tập tin\")\n",
    "import pprint\n",
    "\n",
    "def DocDoThi(file_path, verbose = True):\n",
    "    \"\"\"\n",
    "    return:\n",
    "    + None: doc that bai\n",
    "    + <>None: tra ve do thi\n",
    "    \"\"\"\n",
    "    import os\n",
    "\n",
    "    result = None\n",
    "    if os.path.exists(file_path) == False:\n",
    "        result = None\n",
    "    else:\n",
    "        G = {}\n",
    "        with open(file_path, \"rt\") as file:\n",
    "            n = int(file.readline())\n",
    "            \"\"\" CÁC BẠN LÀM BÀI Ở ĐÂY \"\"\"\n",
    "            # ...\n",
    "            for _ in range(n):\n",
    "                line = file.readline().strip()\n",
    "                if line == 1:\n",
    "                    G[line] = set()\n",
    "                else:\n",
    "                    line = line.split()\n",
    "                    G[line[0]] = set(line[1:])\n",
    "            pass\n",
    "        result = G\n",
    "    return result\n",
    "\n",
    "G1 = DocDoThi(\"dske1.txt\", verbose = True)\n",
    "pprint.pprint(G1)"
   ]
  },
  {
   "cell_type": "markdown",
   "id": "8197f40f-69af-489d-80b5-124c91427db6",
   "metadata": {
    "id": "8197f40f-69af-489d-80b5-124c91427db6"
   },
   "source": [
    "### Bài 2. Tìm kiếm đường đi trên đồ thị"
   ]
  },
  {
   "cell_type": "markdown",
   "id": "43f12303-9ee9-4404-9ecb-f00a5f78e4ee",
   "metadata": {
    "id": "43f12303-9ee9-4404-9ecb-f00a5f78e4ee"
   },
   "source": [
    "#### 1. Tìm kiếm theo chiều rộng (BFS)"
   ]
  },
  {
   "cell_type": "code",
   "execution_count": 28,
   "id": "1910f300-4094-4d69-b009-a9d4ea0fb27b",
   "metadata": {
    "id": "1910f300-4094-4d69-b009-a9d4ea0fb27b"
   },
   "outputs": [
    {
     "name": "stdout",
     "output_type": "stream",
     "text": [
      "{'A': None,\n",
      " 'B': 'K',\n",
      " 'C': 'A',\n",
      " 'D': 'A',\n",
      " 'E': 'A',\n",
      " 'F': 'A',\n",
      " 'G': 'F',\n",
      " 'H': 'C',\n",
      " 'I': 'E',\n",
      " 'K': 'E'}\n"
     ]
    }
   ],
   "source": [
    "import pprint\n",
    "\n",
    "def BFS(G, start, goal):\n",
    "    \"\"\"\n",
    "    return:\n",
    "    + mang chua duong di tu a --> b, neu rong la ko co duong di\n",
    "    + None: dinh a, b khong hop le\n",
    "    \"\"\"\n",
    "    result = None\n",
    "\n",
    "    if G.get(start) is None or G.get(goal) is None:\n",
    "        result = None\n",
    "    else:\n",
    "        path = {}     # path[a]=b nghia la muon di toi dinh b phai qua a\n",
    "        s_open   = []\n",
    "        s_closed = []\n",
    "\n",
    "        # đưa start vào open\n",
    "        s_open.append(start)\n",
    "        path[start] = None\n",
    "        while len(s_open)>0:\n",
    "            \"\"\" CÁC BẠN LÀM BÀI Ở ĐÂY \"\"\"\n",
    "            # ...\n",
    "            u = s_open.pop(0)\n",
    "            if u == goal:\n",
    "                break\n",
    "            for v in G[u]:\n",
    "                if v not in path:\n",
    "                    path[v] = u\n",
    "                    s_open.append(v)\n",
    "            s_closed.append(u)\n",
    "            pass\n",
    "\n",
    "    return path\n",
    "\n",
    "pprint.pprint(BFS(solve(\"dske.txt\"), \"A\", \"B\"))\n"
   ]
  },
  {
   "cell_type": "code",
   "execution_count": 19,
   "id": "ed7e6ed1-ae75-4183-8cb2-0e4eae606144",
   "metadata": {
    "id": "ed7e6ed1-ae75-4183-8cb2-0e4eae606144",
    "outputId": "e0b44695-00b5-48b9-c29c-e9f10b6d3d14"
   },
   "outputs": [
    {
     "name": "stdout",
     "output_type": "stream",
     "text": [
      "{'A': None,\n",
      " 'B': 'K',\n",
      " 'C': 'A',\n",
      " 'D': 'A',\n",
      " 'E': 'A',\n",
      " 'F': 'A',\n",
      " 'G': 'F',\n",
      " 'H': 'C',\n",
      " 'I': 'E',\n",
      " 'K': 'E'}\n"
     ]
    }
   ],
   "source": [
    "path = BFS(ADJ, \"A\", \"B\")\n",
    "pprint.pprint(path)"
   ]
  },
  {
   "cell_type": "code",
   "execution_count": null,
   "id": "cd05574f-d2fa-4f71-80b2-1f9c5b45f945",
   "metadata": {
    "id": "cd05574f-d2fa-4f71-80b2-1f9c5b45f945"
   },
   "outputs": [
    {
     "name": "stdout",
     "output_type": "stream",
     "text": [
      "['A', 'E', 'K', 'B']\n"
     ]
    }
   ],
   "source": [
    "def find_path(path, start, goal):\n",
    "    \"\"\"\n",
    "    Cho mang truy hoi duong, tim ds dinh tu start --> goal\n",
    "    \"\"\"\n",
    "    result = []\n",
    "\n",
    "    \"\"\" CÁC BẠN LÀM BÀI Ở ĐÂY \"\"\"\n",
    "    # ...\n",
    "    result.append(goal)\n",
    "    while(path[goal]):\n",
    "        result.append(path[goal])\n",
    "        goal = path[goal]\n",
    "        ...\n",
    "\n",
    "    result.reverse()\n",
    "    return result\n",
    "    pass"
   ]
  },
  {
   "cell_type": "code",
   "execution_count": null,
   "id": "50a093aa-283b-4623-9428-a0631e37328b",
   "metadata": {
    "id": "50a093aa-283b-4623-9428-a0631e37328b",
    "outputId": "befe228a-3fb4-4ac0-9d99-ebdd7adb25c4"
   },
   "outputs": [
    {
     "data": {
      "text/plain": [
       "['A', 'E', 'K', 'B']"
      ]
     },
     "execution_count": 14,
     "metadata": {},
     "output_type": "execute_result"
    }
   ],
   "source": [
    "find_path(path, 'A', 'B')"
   ]
  },
  {
   "cell_type": "markdown",
   "id": "16085819-733d-4f95-a32d-aa52c5e35a6e",
   "metadata": {
    "id": "16085819-733d-4f95-a32d-aa52c5e35a6e"
   },
   "source": [
    "#### 2. Tìm kiếm theo chiều rộng (DFS)"
   ]
  },
  {
   "cell_type": "code",
   "execution_count": 31,
   "id": "50ebc7cd-f093-4d06-852c-e6c903e27864",
   "metadata": {
    "id": "50ebc7cd-f093-4d06-852c-e6c903e27864"
   },
   "outputs": [
    {
     "name": "stdout",
     "output_type": "stream",
     "text": [
      "{'A': None,\n",
      " 'B': 'I',\n",
      " 'C': 'A',\n",
      " 'D': 'A',\n",
      " 'E': 'A',\n",
      " 'F': 'A',\n",
      " 'G': 'F',\n",
      " 'I': 'F',\n",
      " 'K': 'I'}\n"
     ]
    }
   ],
   "source": [
    "import pprint\n",
    "\n",
    "def DFS(G, start, goal):\n",
    "    \"\"\"\n",
    "    return:\n",
    "    + mang chua duong di tu a --> b, neu rong la ko co duong di\n",
    "    + None: dinh a, b khong hop le\n",
    "    \"\"\"\n",
    "    result = None\n",
    "\n",
    "    if G.get(start) is None or G.get(goal) is None:\n",
    "        result = None\n",
    "    else:\n",
    "        path = {}     # path[a]=b nghia la muon di toi dinh b phai qua a\n",
    "        s_open   = []\n",
    "        s_closed = []\n",
    "\n",
    "        # đưa start vào open\n",
    "        s_open.append(start)\n",
    "        path[start] = None\n",
    "        while len(s_open)>0:\n",
    "            \"\"\" CÁC BẠN LÀM BÀI Ở ĐÂY \"\"\"\n",
    "            # ...\n",
    "            u = s_open.pop()\n",
    "            if u == goal:\n",
    "                break\n",
    "            for v in G[u]:\n",
    "                if v not in path:\n",
    "                    path[v] = u\n",
    "                    s_open.append(v)\n",
    "            s_closed.append(u)\n",
    "            pass\n",
    "\n",
    "    return path\n",
    "\n",
    "pprint.pprint(DFS(solve(\"dske.txt\"), \"A\", \"B\"))"
   ]
  },
  {
   "cell_type": "code",
   "execution_count": null,
   "id": "8177518a-8ffc-4a29-be9c-90375367793a",
   "metadata": {
    "id": "8177518a-8ffc-4a29-be9c-90375367793a",
    "outputId": "22ad7207-aeee-4eed-e13d-45e7b0eea813"
   },
   "outputs": [
    {
     "name": "stdout",
     "output_type": "stream",
     "text": [
      "{'A': None,\n",
      " 'B': 'I',\n",
      " 'C': 'A',\n",
      " 'D': 'A',\n",
      " 'E': 'A',\n",
      " 'F': 'A',\n",
      " 'G': 'F',\n",
      " 'H': 'D',\n",
      " 'I': 'F',\n",
      " 'K': 'I'}\n"
     ]
    }
   ],
   "source": [
    "path = DFS(ADJ, \"A\", \"B\")\n",
    "pprint.pprint(path)"
   ]
  },
  {
   "cell_type": "markdown",
   "id": "d037e84a-1f8c-4388-89f6-9b1e105140da",
   "metadata": {
    "id": "d037e84a-1f8c-4388-89f6-9b1e105140da"
   },
   "source": [
    "# Kết thúc"
   ]
  }
 ],
 "metadata": {
  "colab": {
   "provenance": [
    {
     "file_id": "1KIWugCscJWQJWXC7XjN65Yc5P94WEki5",
     "timestamp": 1758294860468
    }
   ]
  },
  "kernelspec": {
   "display_name": "Python 3",
   "language": "python",
   "name": "python3"
  },
  "language_info": {
   "codemirror_mode": {
    "name": "ipython",
    "version": 3
   },
   "file_extension": ".py",
   "mimetype": "text/x-python",
   "name": "python",
   "nbconvert_exporter": "python",
   "pygments_lexer": "ipython3",
   "version": "3.8.10"
  }
 },
 "nbformat": 4,
 "nbformat_minor": 5
}
